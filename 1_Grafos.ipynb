{
  "nbformat": 4,
  "nbformat_minor": 0,
  "metadata": {
    "colab": {
      "name": "1 Grafos.ipynb",
      "provenance": [],
      "collapsed_sections": [],
      "include_colab_link": true
    },
    "kernelspec": {
      "name": "python3",
      "display_name": "Python 3"
    }
  },
  "cells": [
    {
      "cell_type": "markdown",
      "metadata": {
        "id": "view-in-github",
        "colab_type": "text"
      },
      "source": [
        "<a href=\"https://colab.research.google.com/github/u201718971/Courses/blob/master/1_Grafos.ipynb\" target=\"_parent\"><img src=\"https://colab.research.google.com/assets/colab-badge.svg\" alt=\"Open In Colab\"/></a>"
      ]
    },
    {
      "cell_type": "markdown",
      "metadata": {
        "id": "265PiCZrLgem",
        "colab_type": "text"
      },
      "source": [
        "#Grafos introduccion\n",
        "Un grafo es un conjunto de objetos llamados vértices o nodos unidos por enlaces llamados aristas o arcos, que permiten representar relaciones binarias entre elementos de un conjunto.\n",
        "\n",
        "PRUEBA DE GUARDADO \n",
        "PRUEBA DE GUARDADO 2 TERCER INTENTO"
      ]
    },
    {
      "cell_type": "code",
      "metadata": {
        "id": "5U9hKFf7Q9f6",
        "colab_type": "code",
        "colab": {}
      },
      "source": [
        ""
      ],
      "execution_count": null,
      "outputs": []
    },
    {
      "cell_type": "markdown",
      "metadata": {
        "id": "IqD4u4Mjn7el",
        "colab_type": "text"
      },
      "source": [
        "![image.png](data:image/png;base64,iVBORw0KGgoAAAANSUhEUgAAAPoAAAClCAYAAAB1NOAfAAAgAElEQVR4Ae2dB7QURfb/L4I5o2AOYFwVf6KiCOYECpgzQVbMrii/1TWscX9i1sVVQAVBwBUTf3NcMSCoKysGzIoCRlZEwbTIrvU/n9q+feo1M/Omw/TMe1P3nHd63kz3rapv3dtdfesGEU8eAY+AR8Aj4BHwCHgEPAIeAY9AHSOwrIjsJiInich1IjJWRCaIyCMicreIDBeRc0TkYBFZv45x8kP3CDQ5BNqIyEAReU5E/iUiJsbfRyJyk4h0bnKj9h32CNQJAluLyJ0i8ksMxS51E3hHRPqLyJJ1gp8fpkegphFYW0TuEpFfowq+7rrrmr59+5ohQ4aYxx9/3LzxxhtmxowZZtasWea9994zU6ZMMbfffrv5wx/+YDp37mxatWpVSPFniEivmkbAd84j0MwROEFE5rsKvuqqq5ozzzzTTJs2zcSlefPmmeHDh5tOnToVUvj/JyKrNXM8/fA8AjWFwPLBMj1UyFVWWcVcddVVZsGCBXH1u+D5Tz/9tOnSpUvIP7iZzBaRnWoKCd8Zj0AzRYCn6svuU7xPnz5mzpw5BRU2zZe//vqrGT16tGndurWr8D+JyAHNFFs/LI9ATSCAkr+lSr7CCiuYcePGpdHlsq6dOXOmfYfXdkVkkYgcUROI+E54BJoZAsuJyGRVNp6yL730UlmKmsVJ//rXv8wRRxzhPtmx7ndrZhj74XgEqo4AW2dW0dq0aWPefffdLPQ3Fo9///vfpnfv3q6yfysi7aqOjO+AR6CZIHCiKjnL9alTp8ZS0CxP/uWXX0y3bt1cZX9FRJZqJjj7YXgEqobAmiLynSr6mDFjstTbRLzYhmvXrp2r7LjRevIIeARSIIAzjFUqnF/S0OTJk82AAQPMJptsYpZffnmz7LLLmi233NKcfvrpsVcJONssscQSquw/iMh6KcboL/UI1DUC/6MebzjCJN1Cw5DWr18/Vcqix7g3kRNOOMHlRYCMJ4+ARyABAuHTHGeYJIQBrXv37qFCbrvttubBBx8033zzjVm4cKH56KOPzE033WQ6duwYm/0///lPs9xyyylvAmjWSTBGf4lHoK4RaKsBKmylJfV4u/LKK1URzZ577mmVO7ZGl7gAd1t9tRCRC+p6xvzgPQIJEDhTFWjQoEElVK34T/PnzzdY6eGzzDLL2GCW4mcn++XDDz80LVq0UGX/QERaJBirv8QjULcIPK+K/tprryXSwptvvlkV0Bx55JGJeJRzUcQnfqu6nTE/cI9ATATwgrNJI9Zbb71ydK3gOa4nG+GolaLLL788vKEESS9iDtef7hGoTwRI/2SVB2t5Utp4441DBXzzzTfNiy++aHr16mVWW201u5TfaKONzMknn2wNcknb4LqXX345bEdE7q3PKfOj9gjER+BkVXSSRiSllVdeOVTA66+/3rRs2TL8X/lzxHL+yCOPJG3GGvgc3tPjD9df4RGoTwSuV0V87LHHEiugo3xmySWXNL/97W/NBx98YBWT47HHHhsqPka7Tz75JHFbrA6CPv8sIkvU57T5UXsE4iFAtlarOKR/Skp4vymfnj17FmTj7rHjIZeUdt1117AtEVkp3nD92R6B+kSAtE1WcT7++OOkumfWXnvtUPleeOGFgnwmTZoUnrP55psXPKecL3v06BHy8Y4z9Sm0ftTxEXhIFX327Nnl6FnBc9ynLJ5whYjvtS1835PSQQcdFPIRkQ3jD9lf4RGoPwTC2PN33nknqe7ZYBVV4nIUHaNcUtprr71cRfdJJOtPZv2IEyBAgIhVnGJL7nIU8qmnngqVrxif559/PjynQ4cO5bAteM4222yjfEg77XPBJ5h0f0n9IfAHVfRRo0YVVKxyvly0aJENSYUX79CFyDXG/fGPfyx0SqPfkURSXW1FZFb9TVeTGjFJQvBePCRwbjpPRK4UkfNF5AwROUxEKAaydJMaVRPt7IGq6L///e8bVbRSJzz66KOhL/pxxx1n8E0nSwzba/3799ensDXcFVvel+LPbxgMtb8i8lQTxbw5d7t9oMgTRYQsvu58FfuMZyZu2BeKyKbNGZxqjo3qK3YCtt9++8b0rNHfhw4dWqwKi20DN9vXX3+9UT7FTmDVof0VkcHVBM63HSJAcNFBgbIuVsXHmS937kp9fklEjhSRlmEL/kMmCLzPZOD0Qtx3WkKRcZjZYIMNzNJLL21WWmklW5Fl8ODB5rvvvkvF/qijjnIFZO9MRu+ZpEGA7LxhWnBXqddaay1z6KGHmvPPP9+MHDnS3HPPPbZcF0du2BdccIHN9ks5L/c65zNyyYrTU0YIDFFw//KXv6RSxEpe/P3339u0VEFfKQ9FqWZP1UFgdRG5R+VGj3gtXnLJJSbuDg6vdzwINttss0JK/7CIrFWdYTavVrfXicKijcGrFmnEiBGuEIxqXlPQpEazi4h8qjLDkaxBEyZMMP/5z39SiQ6y9/DDD0eLeDDvc0RknyaFUo129k2duDQ+76lmucTFpKki0aT2UUR2rVEcm3u3jtFsRMwF+QXJRZBWwaNTj8KThbht27bunP9bREhH7ikFAkygBRWjXNYTF53IuP/zjqf9C6rIpBiqvzQhAkQ6/kfnoWvXriaNN2U5MvDll1+aiIMUcsCWsKeECGDhfFcncdiwYeXMQy7nzJ0716y++uquovslXMJJTnEZVvBQyYlGxHciD2I1d9ppp7nzj2X/+BRjqftLsWJbQHFKqUYppkKCg+VW+xUcMQK1rvvZyg+AHUVkoc4BkYfVsOPgZKV9EBGW8XvmB0Hza+mvCiaGuR9++KGQ7uX2HUkstD+RI8YgX3ix8vK3qoh8othTNrsaSq4Cd8opp7jy8KWIUF3IUwIEVhSR93RieT8iJ3s16IEHHohmqrldRKjUopPNEu6WKseks+2zXWAcZEXUWUQ6iAg4Ngdid8Pije2GAh3VJGxHkXf2+5oDyNUawzYiskAnmLDQn3/+Odf5vffee62zjfZBRK4LwCAs9Rnne4TwCxHplwNY+G53F5GrReRlF6NIf/RG9LmIPCoiZ4kIlXCaGu2s1Xt4lZsxY0ZsGSiCi+ITHuMw/vzzz20uQoc3c+IpIQI8ncL3sp133tlgAa00sSy89tpr3VprCMP4SMooXC7ZZnGf7pyHY8X6Ccdb6rItROQmEZnrCFcopDG+I8fd70Vk5VKN1dBvL+jYmJMkpNc3dozL+9Zbb3XxxzPPpxRLITg9RORHnaQ11ljDujDGnZRyz8f99sADD3QnkM/EyxcrlbyxiDyt/QuOrEROz2jitxQRMvCE1ma3LVw3WUYSwIOB6pxzzjEnnXSSreveqVMn6/rrnu98ptb7/4nICinmptKX7q79JcMvwUlJSHlwzJJYwjvhysjJAZUGpLnz7xJ4JYUKSA73mTNnZjZvCBHBMDhfuIIhIteWobA83Y8Vka8j1/49xXKZXPdXuY4h8MZvnx2AO+64w7B8bIwQRgpiXHPNNWa77baLjo3/MSgeWqMCNEHxxCMxKSkPjlkTr3cOf6LlPKVEgAi3Zx1Qw0yvr776auL5I1QV33qCX1zeQY32uAqAdRjDnBs9tUhEboj55GSZ3iBIo02bNtYPO2lorQJE8s3evXsXiu67TUS4udQKkbXHvraRlz+NAc6dV8UhqyM30vXXX19lh1WXL6edgQTxDnSKiMxzJ4/P1D0/99xzDVlm5s2bV3QeeXK/9dZbtqLqAQccEDW26YSxR75uiv5iW/go0scZIrJvGTx7uu/9pK1mOZ71FiP+CRShjPTxtRoK3DhO+/a73/2u6HyW84Py4VgJIjLOaWNQGXPsTykTgTbBsja0yjtAW9B5AlIyebfddjN77723DVHFT71Vq1bupEQ/865N1ZgsiKi2y6NLbxEZJyL0vxD1ERFWALZfZKlNk/66HKG+5ZZbDEkytU0R+VhENirUuZy/u0P79Mwzz5QzlKLnKB+OnTt3ttGHpAYnlRhhqmlXSf/4xz9c/B7JGae6aI6lMkavV9zJjPkZKzbWbKLnKkHsZ5PEwBUGoqCirwUHB55W9jy2EwmJzYOI3V9nnXXc/rH6qHZIpo1Moypu2m3VCPbuOO1nxk4Jr6TE8t2x7RC67K3vldCkgCdbWhjERorIi0W2oXjnezuwYv9RRHYSkVYV7JOy1q04hMAVNF4RiKnGwYWKL/Y3EmbgW50nzZo1y2y66aZu31jGVyvWnq0/25cdd9wxNQxsy44ePdpW5uHV7euvvzbjx4837du3D8fbrl27VDfWfffdN+QlIhvoxPtjfgisIiI8+Yttj+XXk/8aap5QIQ6OPN35s4LCkzxvJVdN+vTTT13DEv0ZkSc4Tls7KB59+/bV7mV+ROE33HDDUEGvu+66xG0MHDgw5ONj1p2ZrOOP+nRfzL6www47pLIuJ5ZS50K24lguq6IF2VPzni72o20feIeuJFFeW9vaZZddEjfFTUL5iEjfvAHz7dUuAizvpqlwrLLKKqmKPqqEnnfeea7A6dexjiRx0H6JyOyYW4NZIN5b27/66qtj9T3uyV988UU41tatW8e9PDw/4iV3ahYgVIAHNQJZ3S5fAd6eZREEMNi8owKNcqWlv//979EAnEQscQHeY489QgUQkUuKjKFSX/9WcbnhhhsSjaHci3hn17bYykxK48aNC/kELsaVwqYcvuzqHB4YmfE9IQ7D7R+f2fMnIvDJYAdrvyrc0MsZS5M/h8IBFny2AbHcpiEs07/5zW+ik5mY5dtvv+3eNPBbyLNiLAkm7FiuuOKKxGMo50L3iU5ikaQ0fPhwF/uTqiCdywRBVWwRF3SXVkxLHDEIYyDG7dzvHGQ0ieGW2/33359UvsLrzjrrLCtoWOzdiQxPSPDh6KOPdnnl5QiCDQN/Ats2zkKVJKzx2hb+FkmJG5LyERFSouVFeDMSmVjoqW37xGshPvnYIBhjly5drA8BtQedPkc/szuFrcErfIqZ3FwBJrVw2iQKU6ZMsZF25DD/9ttvG0xYUsHlOgxz2k8ReT3FeKOXsm1HGSR8Cci9Ru29x4McBOE2I20fdthhaYZQ8loCmBz3VXPbbbeVPL/UjwMGDHCxIjYjD8JoGSbk0LliTGeccYZ58MEHzVdffVW028jdJ598Ynjt4AHh+AK4YyFeg1wHnhIg8CedlLRL059++inMTEuSDEh5c0xLkegsIunKJZaSnE/xA8JibxYRgj4w7rmxAA366/adz7g2pyECecgQhPcahTvYupwzZ44ZO3Zsg/gGPObS5J8jSaXTd3wjKkkY00Y77dkyZD179jQTJ05M/BpIPMHdd99tvUhd3oG3Jn4n/ukec1bDZTt31DTEnZtJoXqMkjtJ+l3SY2RJemZknKRQYs8bewNP5luDhByxlNnp7y9BjADvmTaeYYklljAk5kxKDm9XERt8xvDInnpS4mZLVGHQ1mcRjLL+l6QnLKu1PbsknzZtWtLuF7yOGoaR1Oa0x6qrlsOas8Y6FT/SO1l/djyz0hAloFu0aGHw63cF1RWCNPy5durUqaFABU9jlPAD15PPba+Mz98H24oYfahb1z+IL8Cz0a1zdqPyonxSUpo+fbq59NJLbQAPrzbEOvBuiiccoc4sb9O+Oj355JMuRoyrUkRVWDIG2fYYB9t6aftfDFue8NhIkDFtU0SmlojVqNS4myRf3F0tcP369SuGcaPfE82mLpx33XVXg/OVP8e0xFKXABCXZxmfUWZcaO8VkStEZECgzHH850OnmUMOOSTtMCp6fcQAyk0cZe+asXRu4npQUnaKKMw8iGIq1C505p25bSoZijKehvLZ4Y9vQUvzfn7qqadaHrjMRkn5c8yCIu/ptEuJYZ7qvHPzrsg+O09m8rtllREVl+VvGAPL4iwKb2aBRZQHgUcRJXAV4h9BujHsFWmobRBVaHkzH3mkVHPHimF2zTXXdMdGzsQl0wyquV9L/W0LGIaPJITBheUUVtJCE678s1J0LN8OT5Q5LyKq0LZNPvVaJDz3tI9B8ZFo4BK/s/V1kYiskQA4DGA4tdh2eG/GmFgNYgWB96D2JUhQmmBI9XEJ2VstWLzbJSHNhoOfdiFS/hyzoOOPP96d3EqF8xaafeLirT2DvWDXDpHFuNLymD9/viGHYYA3Owlk2cUGQ9LQBhmCgnOInoy7rD9H5xNbDFGG1aTnnnvOzenAmH1dg0KSG7glWuGYPHlyojnTiY97TNSYMebMM89UYeZIwsY8aayOkwSYtUQRXB6IgILjD5mGUGwqurgY8rmcZT0GSptlmN2Hxx9/vOzh4/H3yCOPmD/96U+G1zvXX4C+pKHITgyZlNK+mkSgax7/khveTjpL8CSk18c9JmmLa8gq67RFaaQ8iZReGPfs60ocYU863nKu4ybtZCvCZrFpCVBYmVypW4YOluD6VfBbodRlFIaw2DMHcUivK3aMwyt6Lu7a+B04vM8vMfa6/QnDlQUpC9fX6CTwv/LnmAUdc8wxLk8SV+ZNONzYPrB8JW6+moRhkDTb2icRwQGqHGIPutxlPVtp1rEIH/y46a7YSsSB5uKLLzYPPfSQzRjs9Dc1fOzbs8oIeJKlye+vRySAsr8WoCFDhqQGvBAD5c8xC8I32uFZjcKSDQxSeMuVSgCaxZiL8fjxxx+tr7iDBy6iSZKaYNQstawPnaoGDx5crDuxvnf6HOu6YicffvjhrlxEnakiYl9//+6hgFOsrxKk/DlmQaRbDnj+s4rThcUajzvbl5122il3ZWcrjaAQ7UOwr522Ko8u6+1WosPbtrPiiita190s5tHlnQU/nuoOzzeqKBs12TQCa5dkHTt2zALvxXg44C/2W9wvPvjgA3cyiW2uJvHaECrEVlttlWkRj1LYUCyDAo8OtmQIyjLYQ5f1lMwK28nSAOnyLTXWOL8hww5fApU8OQjYhBO848R99ypnEhzgyzm95DmRbDN5J6BwIAs/4lsf1p9jX1eDeUoOJMWPbIO2bdvWFWj2yiu1+4C1/jmdw6QG20LDVZ4csyLq4Tl82Qr05CAQOoKMHDkyK8wrwieS3TRPZxkHrsU+/kZEZjoCZnhfzNpIhzMSySkjvt44v3RcrEfZfYGiY4m3PvlpKtREBcLFK/pb0v+pO+DwJfGpJweBXRWcXXfdNSnGFb+O5WrLli11IsmzXkthipRsoliC9s8mtTzttNMSlVZ2wZw9e7YZNGhQIR9/XH6zcvF1xKHBR9757ZiIqsuSlC/HrIiAGseGw2uVJwcB7tpURLETSqx0LRKRS9rHIK+YM4Sa+AiO7GKE7+30lycw2VSoqUdKrHLo/fffN8OGDbNRbs62kY6fpTpWZTe6rlIA7KOYUx03S1K+HLMk8uY7vCsdi18p3CvGl9RMFqBCgSlZTkQSXribYvEN+kiceC0XJSAZIoUsf1JM3SPv8Th49OnTx5x88sk29JKgIJblJIxgn9o93/mMIwwJMyjwmRexz277k3ViTOXLMUvCYOjwxobiyUGAXF9h4YZa8fhSAYj4t1NptSkQOxoXFyhw6QpiOZ9nichlIrJOFQZ9tioNpbGzJOWbtaKfffbZLqasSDxFECD/twWJckh51VprTHgIXHCWr/haN7VSwCzpebKQ/ugp94aqeEeOdrszOI98b9W0RYSek1nvJrhjbkwG4vyOP73D+5CIjPt/A4F6WUFy00HFATrLc3HvjBRcJEVUcyBKc1Hwknp7BJuQGIJ9Xzz9NNIMhcfIV026QOXhvvvuy3JqXWXMlO+FF17o8u5VTfBquW0SKP6ok3vVVVdlOglxmJH7LGJYwQ2zHpILDFP8RYTMNtWkM7QvpKLOkpQvxywpEsVXKf+Cas5JZm2HWWewGI8YMSLLeSiLF/u1vXr1cu/MuLsWiqjKbNA1xOhoRwmuqXK/wnJUl112WVlzV+5JzhjLvaSs8yI+73EyBVcZ6uo0j/HHKhrKfuWVV5YFchYnkQY5UoKJFQa57eqFMLrpTY4glWoStgXblzQ5BQvJhfLlmCV16NBBsaNCjI9Nb0R6MCC5S0ibwnnBggVZzslivAhM2HjjjXWiOLJFRR2ueqMZgSKQ0YYsMdUiSl/Zkkppc9q7it3Y58UEo8wvSFK61FJLqfyQhMJTGQig7P/nTgppiR9++OEyYS//NN7HL7roIjcfOZNFLvVdyuhnczzFLYiwb5UHSFUc6/hTKCdgubPsylFjn8vlGT2PbWGH96gq49bkmqf2mM2qoiB269bNTJo0KYpz7P95FydQZcMNN3QniM+EGW7W5JDKrsPHKdbBzTY7zvE5Xa99qYa9Jo5QaTbioL++Lnz8ubZKN0UnXI9UXv3zn/8cKzyT3OwvvfSSrcflJDNURSef2RARoR5aPdPGirGIPF9lIFhV2fmp5ViIhQsXul6FJL6s9tZklactefMs5akVTkCJKmZ4JIk/FU8vueQSM2rUKENFE5Ltk0Z66NChhgqr+++/vyGDaqHrRYT48m2Sd6/ZXalVUHB9raZRiXlXm4F59dVX4zxkczuXLMSOXE1odtJQhQGRqugEEXnTAdYFOc5n/NbJWForIadVgLNok3c5+FbbVhG6wlI6qtaIVeLmm2/uyh1OSJ4yRIAnMDXLcGaxOc8d4XSBdz/j8cUTApdbAkA8FUbgNAdL3GerSVRM/Zr+sN2KW3It0Y033ujKF96dniqIAMJAEoQjRQSPKoSTWmdk+jhFRI7RtFUi8moF+9FcWOMiqwJcC0kUwuy3W2+9tckyCUWamwZ5CiKvg3s2FwFoyuN4PxBejG74e3sqjgDBLBrbTk64VsVPzeUX2rdbbczhwIED0+hnJteS032vvfbSmyHHO3NBwjfSKAIjnKfU/o2e7U940MErz/JTxZDHUw6Ltl3CjxkzJhOFTcok4tf+ZcJ6csXG6r9PgUA/R3BZ1nsqjcBZDl7/W/rU3H4Nk5QsueSSFXGgKkfxcct2sGGF6JfsuYlA4w1t6EwO+/KeSiMQ+pqLyP2lT83tV7bb2CmxiobL6Z133lmObmZyDnnhqPii7QdHbEKeagwBMqYwUSwByWzjqTgCvBfzfg5evK9XMwmF9nITtcCrspEY5PzzzzeLFi3KRJmLMSHgKVI2G1zKLUGl/ffHnBC4QwVERKgU46k0AmE9chGhBlo1CW8zNaiiZGH6MeaUclnTp08vpqepviefffv27WlT/9imZX/fU40icJIzWeRU81QagTDLS+B7UPrsyv2KW7LrBk10WFsRudAtxcx7Oxljs8pr//rrr5uDDz5YlVuPrHKOqNxQPecsEKDggU7Y01kwbOY8wrz7IjK+SmMltTRupTpvOM+whFcik0uDIha8u/fu3ds88cQTBs+1OETxSN77u3fvbq37Tru0/0ojZaG1T/5YZQQw5uiSj6QSSap/VnkIuTa/tIj8HAg7lVnyJuwC7usWc1aoLj32lsudvupNway88srmgAMOMFdccYWZMGGCmTp1qi1sMWvWLEM9vZdfftkqNvneSDqyzDLLhNc6Sk7pK/Lm14KdIu85aLLtuU+Hesoek3TCiGBT4SeyLU/6s9M2sQk9Gml8LRG5VkQoNKF9TnMkuIdtRl/zvBHga/FnKo3o5DeXzK6VxNlNAEKsel5EHIPOE5lmjorRMO/05L9jW/Bbh4/yK3VEuW8XkW45VaSJMSx/ahwE8InXiaZmmafSCJBlRvEi+0wedK7TJhZujKhJiXf8bUUEhyluHhThuEdEHguOtwRGPQxsmydtxF9Xewgw8d8FgsTd3r93lZ4jlq0sm1F26uSxfMcAxjL6cBHBnXg3EWmf0RMw9H4L2vQliEvPj/+1BAKPOk8Mn3CiOFAY4yhEgC83is7TVZ/uhY4kqpgmIqSA4gYQ19gZVXJeGzx5BBIj4C4NBybm0nwvZAk71IlgK6TU5XzHVtiNke2wYqhRVNG9kWBU8+QRSIUAdcVUUO9Nxal5Xcz+NHjYNMsORnZPeZNNNjE9e/a0OfdwOyW447zzzrNhoz169Iimy1Z8ORL4QRhnuyJwHR9RclYEnjwCqRGgvJKWf6ISC/vr9UwssS8VEZbeoYIuvfTShuoj5OCjFl059NVXX5nx48cbSmA7ec6VJ7ny8bZz49ux5Ls3FhJ0evIIZIbAREeo69naihENjy9VRpvRlMqg33zzTTm6XfQcasuTM3/VVVcNeQft4M66fpDw01VyLOD1ftPNTMA9o/8iEJblDRJO1iMuJMakWIVVxFatWtll+fz584sqb5If5s2bZ8h77pSgpj2cWlwlxybglbwepbDCYyZZgD5pxla4rVpkj1WcpbTFgEIWuINWkii8se666yrmHDWpJ3vbfpuzFqWkGfQJ/2ibmkhEZjeD8cQZAsEqoZLvvvvuhqduHsRynpBSvcEEc0Ctdk8egYoh8KIjcBtUrJXaYryp4zBkDjzwQPPzzz/noeNhG0SI7bfffq6yEzRCBiBPHoGKIHClo+j1UC+Lqis4tFglI1orbyVXbae45S677OIqOwbBuA42FREKz7T5IYAbpwrbrc7wSAe9ajOsw4YTih0vJaJJj1RNmjt3rll//fUVf47eE84RQv8xOwRIRKGWX95ZbUUQVYbgiMHoAxEhAIYcYaSgqmY9sqSjpyiDNX6xvx23jtmHH35obrrpJlvjjnrlK664osFK37p1a9O1a1czePBgg+LGJYpewifAmn18Xi08eQRSI7BSUL2FUk4qYHGPpBMikgujVlOhMP8bXm1xqRysVl99dfPUU0/FZW0GDRrk4l8rGWebyrz6fkYQaB0sDYvGJyOolGPebbfdzN577206d+5stthiC4OHWAlBp94WgR+1TJ20/2xvYQyLS1xPTra+ffuaRx991GA9/+GHH2zGFjc7Khla3n777VjsFyxYYNq2basY4+/O6sOTRyAWAjhh9BcRXF1VmOyRKpjnnHOOzS1WyguMvGPvv/++GYXHdWoAAAr+SURBVDlypDnqqKPM8ssv34BPwJcaZW4us1idrPDJ5HuzfR4yZEgsJdSTe/XqZT7++GP9d7HjiSeeGGJy5JFHLvZ7Y19EiiKMqjAenn0zQ2B1EXFDUu37IIkD0ziHfP/991bpI+VyEXTe8wnQqCVaWffMKQiY5GnemJLy+4wZM0JFX2ONNcq5pME5eOM5N1BejXze/VqSohruC5lkPtMnGUeSBH700UcNBCzNPxTau+OOO8xaa60VCnnQHu/vBM7UArGasf3jqVsposKptoOxLwnxWqA8gsq4tYCf70MNI0AGFM0iY1ZbbTVz//33J5G9sq7hadS/f39XSPn8uIhQzrnaFGZRnThxYlnjSXISOdBVSTfYYIMkLGwtNeUhIhTF9OQRKIoAmV1/UIHZfvvtzezZsxMJXtyLRo8eHQ3NxNJdbScQu6rBSFZJ55iTTjopVPTjjz8+LnT2fG6YzlYbRRo8eQQKIrCZmxUFyzkW3Tzpb3/7m91j1htNkJe8YGdz+BIbhVVA/MsrRS+88EIYmUaE2ltvvZW4KXY9gj5jffdplnMQkqbWBE4sr6lgszXG9k816Nlnn40WAvhdlcDsqngcd9xxFYHi888/N2uuuaYqp6FueBo65phjQl4igp3Fk0egAQLEM1sh2XTTTc23336bRt5SX/vXv/7VFVg8vqqxN3ykYnLZZZelHlOUARhvvfXW4Tg7duxo8GFPQ1RM0T6LyIENZtj/U/cI4BBiXVl5F502bVosWXvzzTdtJhSCLHDp5D0RA96+++5r7r777li83JNPOeUUV2gnVyGxAlt9tg833nij27XUn9mmc8NN2XnIorjhtdde62LWp+4l2wMQIoBDTJgK6fLLL48txKoMxY5HH320YSstLvF0a9eunSu4vcNe5/PhdB3TbbfdFrf7Rc9nK22fffYJx7XccstZD7miF8T4Yfjw4SHflIUb8kHYt5IbAvupMG+22WZm4cKFMcTqv6d26tTJBmy899579vrPPvvMDBs2rIFR7YYbbojNlwseeughV3DfzTmTygmKzdChQxP1P3rRokWLbAy78m3ZsqXdFouel/T/6667zsWL6iqePAIWgedU6HBeyZJGjBgRCh3voklpxx13DPmIyME5zhv1ymzbVBNNS6xq8CpUnhxxC86SLr74Ypf/QTli5ZuqYQQ20nzgLJF52mRJpC5WoebdPynhrKN8ROThjPFkCw3fAQxvZ4vIX0TkoWAHIqwqyj53WnL3yhkP/ulZU79+/VysdsgYK8+uiSJwkSrQpZdemrXM2fhq5b/eeusl5s8NCP/vgBd1zFDOONRGRMirxlKW5AwEqUyNUymUiLw0RPCPYsHx7LPPTsOu6LWR1Q8JQDx5BCSMKc/Sh12l8M477wyFO+0T8fTTTw95FSkBjDLvKCIY7CimQGWTWMrsKmKw0vlCk02ssMIK5pdfftGhxT5GeLtjKfg5iQUe46UTEvypl2+PAAisqFU+27dvH1twS10wZ84cM3bsWLvFhoB36NAhUfYUt42IUY6klDcES+zprstuTIWi+OEkESGsk9XNsUEGHF5pKJAI3ac8J0+e7HYp1mflUe4xiaKTtMLhX48puIMp8wcXgV1UKAgoyYKUnx7Jq8Z2XVonEPpGfrYWLVq4glzuZ57Kz4vISBGhOORhIkIF2HLdQ0/R8aT1WssC41I8IjYAblqePAI27tsqC04WWZAqhB4xwHXv3t1MmDAhC/aG93zl7RwpQDhTRJ4NnsznB3XHcf8sV5lLiUNbXfmQxSXN8j0TEIowIeDGKd30s4j49/NSs1pHvw1WZXnggQeKiE+yr7/88ktDSGe3bt1CxTziiCNSK8lee+0V8guezNQ9yyNuHUu/bXvUqFHJQKnwVfgtaB9F5J46kmM/1EYQuEkFg+ipShEhl9oOBQPTEDcL5ZVzttOw/BRxALX2VMfTjhh2BxtfuaUR4a+nn8niYoXjtddeS6N/Ja91UySRgzwNDRgwwBXm7XKerLAqzTXXXJNmGJlfy9aozqWIPJ0zLr65GkeADCRWQKZOnZq58ClDXGq1naQpkpRXxBlk65zx7aLORWy1kae9FoiMscsuu6xijL1i25xx8c3VOALXqwI+88wzFZPZd999V4XQGtPSNHTwwQeHvESkXRXwpWqp7QMhpZXMOFMOTuQLoBiE9klEeB3z5BFogADWaSsk48aNK0euEp3Tp0+fUBDTJm/YYYcdQl6BH0CDAeXwD5bsGYrbQQcdZEhlXQ2i3UMOOcTFg2o4FNfw5BFogMDhKrAkK0hKuFxSaojkhuQsQwBJqPD000+bnj17hoLIcrdUXvNy2ifdctDnzxuMJN9/thcRtq9sX9i7ThKCW854i50DxpFkmuT4q0ZijnyR960lQmArFdb999+/mEw1+r3yKHVcZ511TBqvMjrBO7HTxsREI87uokNEhPdh2ycKLmD5zoNIWMFKQtsOXHT3z25onlNzQ2AJLYpIwb+kW0bTp083WH333HNPm5+d7DI4yqDc1PBmf5eCDWnp5ptvdoX7khqYjONcZScpY6UNdNg7cCeOKHneyThqAHrfhbgITFChSVLcL63yxrm+R48eroDXSnHGQ0WEfHa2b7ye4GWY9KZZDA92Lqi2SiYabUtEfhSRnnEn3J9fnwiQU8wKD1U+apUIkqFAYdDXOSLSqoami3x7HyuOHMnUc/vtt6dWeBSc5B0bbbSRjl2P7wf++jUEg+9KLSNAfS7qdNnl9hdffFGTuh5xCGFbsNYIazwRcORSV2W0aZwpaTxlypSyk3qwGpg0aZIZOHCgWyFVeZLA85Yq7TjUGua+PzERCF1hK5UMIc3dgwISZJQNFAhB3zzm+PI8nTzwYYy/q/TYQfDVP/XUUw2edbfccou566677PHqq682ZLzFzsHy373O+Uw4rc8Yk+dsNrO21hORhQgUSQsob1xLxM3HEfa7mgj2+MYTCLPI6bs7jnI/My8PiEit2CSaCPy+m8UQIE+aFT4izn799dea0PU33njDfTdH6Gv5aV4IW0JcTxURjJ7fKMaNHL8WkXuDVM1xU2YV6oP/ziMQIoBHFU4oVtmzik9Pc7fAvXOLLbZwn3xXhL1tuh/WFRGe9n1FhIQW5wRHjKJ7iMjaTXdovudNBQFSA1tjEhZuih1Wi/A0O/TQQ10lf7tGSig3lbn0/fQIlERgiD7VMR698sorues6rw0YrLQfwX7xliV77X/0CHgEYiFAtpbHVMmwAD/55JO5KTs+3CeccIKr5LiZ4pTiySPgEcgYgeVFJEyyQAw55ZQqbaBjD3/33Xd3lZzXCEoiefIIeAQqhABJFZ/UJztHItFmzpxZkaf7+PHjo84hWNi9D3eFJtez9Qi4CCwlImHNdJQdX2tCWufOnZuJwuMBtscee7hPcT5/FVig3b74zx4Bj0CFESAPOnu7oULy7n7iiScakkrGXdITq47/dteuXUN+Du8nRGStCo/Hs/cIeASKINBaRG52wzJVOdu0aWPIzopbJ9VUpk2bZkgIOWvWLENYJX7eY8aMMeeee67p0qWLIYxVr3WOs0XkiCJt+689Ah6BnBGgVBFJJcMMK46yFlLgxr77UEROFBFeEzx5BDwCNYbAyiK20gtLbdIYNabQ7u/kXBsuIjuLSIsaG5fvjkfAI1AEAZ7GFAwYICJXiQj54vHVflRECEJBqal5RvqlDYvw8F97BDwCHgGPgEfAI+AR8Ah4BDwCHgGPQNNH4P8D4PLTCEb4KLUAAAAASUVORK5CYII=)"
      ]
    },
    {
      "cell_type": "markdown",
      "metadata": {
        "id": "LhqPNVKSoHkr",
        "colab_type": "text"
      },
      "source": [
        "### Representacion: \n",
        " $G =  \\{V,E\\} $\n",
        "\n",
        " Donde:\n",
        "\n",
        " G: grafo\n",
        "\n",
        " V: vertices = $\\{v_i\\}$\n",
        " \n",
        " E: Aristas = $\\{ (e_1, e_2)_i\\}$ \"formado por un conjunto finitos de pares no ordenados (bidireccional) de vertices \""
      ]
    },
    {
      "cell_type": "markdown",
      "metadata": {
        "id": "RJvUevtUp77s",
        "colab_type": "text"
      },
      "source": [
        "## Usando libreria Networkx"
      ]
    },
    {
      "cell_type": "code",
      "metadata": {
        "id": "hC_kt34HtS-6",
        "colab_type": "code",
        "colab": {}
      },
      "source": [
        "import networkx as nx"
      ],
      "execution_count": null,
      "outputs": []
    },
    {
      "cell_type": "markdown",
      "metadata": {
        "id": "oY-bqm81swJl",
        "colab_type": "text"
      },
      "source": [
        "Esta biblioteca nos permite crear grafos de manera personalizada o incluso en base a informacion en diferentes estructuras de datos (incluyendo \"dataframes\" de \"pandas\").\n",
        "También, nos brinda algunos grafos conocidos de forma mas sencilla. Incluso, esta libreria incluye varios algoritmos conocidos que funcionan con grafos."
      ]
    },
    {
      "cell_type": "markdown",
      "metadata": {
        "id": "W2pBVhNguSpq",
        "colab_type": "text"
      },
      "source": [
        "Ejemplo de la creacion de un grafo balanceado con 2 ramas, expandido a 3 niveles."
      ]
    },
    {
      "cell_type": "code",
      "metadata": {
        "id": "s1P6W5sbvwlP",
        "colab_type": "code",
        "colab": {
          "base_uri": "https://localhost:8080/",
          "height": 319
        },
        "outputId": "f7981d63-e4e6-4418-d9fe-3be1a3e5d88c"
      },
      "source": [
        "G = nx.balanced_tree(2, 3) \n",
        "nx.draw(G) # para poder visualizar"
      ],
      "execution_count": null,
      "outputs": [
        {
          "output_type": "display_data",
          "data": {
            "image/png": "[encoded data removed]",
            "text/plain": [
              "<Figure size 432x288 with 1 Axes>"
            ]
          },
          "metadata": {
            "tags": []
          }
        }
      ]
    },
    {
      "cell_type": "markdown",
      "metadata": {
        "id": "Fnv9Rbf_1PTj",
        "colab_type": "text"
      },
      "source": [
        "## Grafos incluidos en la libreria:\n",
        "\n",
        "\n",
        "*   nx.DiGraph()\n",
        "*   nx.balanced_tree(#ramas, #niveles)\n",
        "*   asdaskdj\n"
      ]
    },
    {
      "cell_type": "markdown",
      "metadata": {
        "id": "Qvq0bx2vxSlV",
        "colab_type": "text"
      },
      "source": [
        "## Funcionalidades:\n",
        "*Agregar nodos*:\n",
        "\n",
        "*   add_node: Agrega un nodo a la vez.\n",
        "*   add_node_from: Agrega varios nodos, en base a una lista.\n",
        "\n",
        "Estas funciones permiten agregar adicinalmente atributos propios, en el caso de add_node_from, el atributo agregado se aplicara a todos los nodos.\n",
        "\n",
        "*Visualizar Nodos*\n",
        "\n",
        "*   nx.Draw(): recibe como paramentro, el grafo G, que se desea mostrar.\n",
        "\n",
        "*Agregar adyacencia *\n",
        "*   add_edge: Incluye una arista entre nodos en base a sus identificadores\n",
        "*   add_edges_from: \n"
      ]
    },
    {
      "cell_type": "code",
      "metadata": {
        "id": "KoH94ina0vxl",
        "colab_type": "code",
        "colab": {
          "base_uri": "https://localhost:8080/",
          "height": 319
        },
        "outputId": "6f01e254-121c-4a25-eaa5-0997dfcf8b06"
      },
      "source": [
        "G = nx.DiGraph()\n",
        "G.add_node(\"A\") # agregando nodo con valor \"A\"\n",
        "G.add_node(1, atributo = \"soy atributo\", ciudad = \"lima\")  # agregando nodo con valor \"1\", y atributo \"p\"\n",
        "G.add_nodes_from([\"B\", 2, \"C\"])  # agregando un conjunto de nodos \"B, 2, C\"\n",
        "G.add_nodes_from([\"D\", 3], otro_atributo = \"soy otro atributo\")  # agregando un conjunto de nodos \"D, 3\", y atributo \"s\"\n",
        "\n",
        "# Visualizando el nodo:\n",
        "nx.draw(G, with_labels = True) # G: Grado, "
      ],
      "execution_count": null,
      "outputs": [
        {
          "output_type": "display_data",
          "data": {
            "image/png": "[encoded data removed]",
            "text/plain": [
              "<Figure size 432x288 with 1 Axes>"
            ]
          },
          "metadata": {
            "tags": []
          }
        }
      ]
    },
    {
      "cell_type": "code",
      "metadata": {
        "id": "1Q1qsILB8kTP",
        "colab_type": "code",
        "colab": {
          "base_uri": "https://localhost:8080/",
          "height": 136
        },
        "outputId": "ef8d9429-c1c2-48da-96c2-02660bd7e6b5"
      },
      "source": [
        "for node in G.nodes(data = True): # si se desea ver sus atributos, pasar como parametro \"data=True\"\n",
        "  print(node)"
      ],
      "execution_count": null,
      "outputs": [
        {
          "output_type": "stream",
          "text": [
            "('A', {})\n",
            "(1, {'atributo': 'soy atributo', 'ciudad': 'lima'})\n",
            "('B', {})\n",
            "(2, {})\n",
            "('C', {})\n",
            "('D', {'otro_atributo': 'soy otro atributo'})\n",
            "(3, {'otro_atributo': 'soy otro atributo'})\n"
          ],
          "name": "stdout"
        }
      ]
    }
  ]
}